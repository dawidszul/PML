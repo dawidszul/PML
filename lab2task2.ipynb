{
  "nbformat": 4,
  "nbformat_minor": 0,
  "metadata": {
    "colab": {
      "provenance": [],
      "authorship_tag": "ABX9TyNyr3eXaHSylouNFi/50rTW",
      "include_colab_link": true
    },
    "kernelspec": {
      "name": "python3",
      "display_name": "Python 3"
    },
    "language_info": {
      "name": "python"
    }
  },
  "cells": [
    {
      "cell_type": "markdown",
      "metadata": {
        "id": "view-in-github",
        "colab_type": "text"
      },
      "source": [
        "<a href=\"https://colab.research.google.com/github/dawidszul/PML/blob/while_variant/lab2task2.ipynb\" target=\"_parent\"><img src=\"https://colab.research.google.com/assets/colab-badge.svg\" alt=\"Open In Colab\"/></a>"
      ]
    },
    {
      "cell_type": "code",
      "execution_count": null,
      "metadata": {
        "colab": {
          "base_uri": "https://localhost:8080/"
        },
        "id": "p_i7dkm9Lxsv",
        "outputId": "17dd5d11-e285-4563-956d-c6c9777382b7"
      },
      "outputs": [
        {
          "output_type": "execute_result",
          "data": {
            "text/plain": [
              "[1, 2, 3, 4, 5]"
            ]
          },
          "metadata": {},
          "execution_count": 9
        }
      ],
      "source": [
        "count=[1,2,3,4,5]\n",
        "count"
      ]
    },
    {
      "cell_type": "code",
      "source": [
        "count=[1,4,2,5,3]\n",
        "i=0\n",
        "while i <len(count):\n",
        "  print(count[i])\n",
        "  i=i+1"
      ],
      "metadata": {
        "colab": {
          "base_uri": "https://localhost:8080/"
        },
        "id": "3HkHpD-kQ295",
        "outputId": "49e30e7f-e7b7-4fed-f9d1-4c55c5194cd1"
      },
      "execution_count": 3,
      "outputs": [
        {
          "output_type": "stream",
          "name": "stdout",
          "text": [
            "1\n",
            "4\n",
            "2\n",
            "5\n",
            "3\n"
          ]
        }
      ]
    }
  ]
}